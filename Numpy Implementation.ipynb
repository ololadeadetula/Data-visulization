{
 "cells": [
  {
   "cell_type": "code",
   "execution_count": 1,
   "metadata": {},
   "outputs": [],
   "source": [
    "# Introduce numpy package\n",
    "import numpy as np"
   ]
  },
  {
   "cell_type": "code",
   "execution_count": 13,
   "metadata": {},
   "outputs": [],
   "source": [
    "# introducing dictionary \n",
    "d= {\"1\": \"A\"}"
   ]
  },
  {
   "cell_type": "code",
   "execution_count": 3,
   "metadata": {},
   "outputs": [
    {
     "name": "stdout",
     "output_type": "stream",
     "text": [
      "[ 2  4  6  8 10]\n",
      "2\n",
      "[ 6  8 10]\n",
      "[2 4]\n",
      "[ 2  4  6 12 10]\n"
     ]
    }
   ],
   "source": [
    "# Numpy Arrays\n",
    "set1 = np.array([2,4,6,8,10])\n",
    "print (set1)\n",
    "print(set1[0])\n",
    "print(set1[2:])\n",
    "print (set1[:-3])\n",
    "# replacing a specific value in list\n",
    "set1[3]= 12\n",
    "print (set1)"
   ]
  },
  {
   "cell_type": "code",
   "execution_count": 6,
   "metadata": {},
   "outputs": [
    {
     "name": "stdout",
     "output_type": "stream",
     "text": [
      "[2 4 6]\n",
      "4\n",
      "(3, 3)\n",
      "9\n"
     ]
    }
   ],
   "source": [
    "# Numpy multidimensional arrays with different lists using []\n",
    "set2= np.array([[2,4,6],\n",
    "               [8,10,12],\n",
    "               [14,16,18]])\n",
    "print(set2[0]) # to get list 1\n",
    "print(set2[0,1]) # to get second value in list1"
   ]
  },
  {
   "cell_type": "code",
   "execution_count": 9,
   "metadata": {},
   "outputs": [
    {
     "name": "stdout",
     "output_type": "stream",
     "text": [
      "(2, 3, 4)\n",
      "24\n",
      "3\n",
      "int32\n"
     ]
    }
   ],
   "source": [
    "set3= np.array([[[1,2,3,4],\n",
    "               [1,2,3,4],\n",
    "               [1,2,3,4]],\n",
    "              [[2,4,6,8],\n",
    "              [2,4,6,8],\n",
    "              [2,4,6,8]]])\n",
    "print(set3.shape) # type of dimensions (x,y,z) x= no of lists, y= consisting of sub lists each in x, z= elements per list \n",
    "print(set3.size) # total number of elements\n",
    "print(set3.ndim) # number of dimensions\n",
    "print(set3.dtype) # data type"
   ]
  },
  {
   "cell_type": "code",
   "execution_count": 14,
   "metadata": {},
   "outputs": [
    {
     "name": "stdout",
     "output_type": "stream",
     "text": [
      "<U11\n",
      "<class 'numpy.str_'>\n",
      "int32\n",
      "object\n"
     ]
    }
   ],
   "source": [
    "# changing data types into string\n",
    "set4= np.array([[2,4,6],\n",
    "               [4,\"Car\",6],\n",
    "               [1,2,4]])\n",
    "print (set4.dtype)\n",
    "print (type(set4[0][0])) \n",
    "# specify what data type ( changing str to int)\n",
    "set5= np.array([[2,4,6],\n",
    "               [4,\"5\",6],\n",
    "               [1,2,4]], dtype=np.int32) # to float use float32, to str use= \"<U21\"\n",
    "print (set5.dtype)\n",
    "set6= np.array([[2,4,6],\n",
    "               [4,d,6],\n",
    "               [1,2,4]])\n",
    "print (set6.dtype) #  using dictionary would make dtype= object"
   ]
  },
  {
   "cell_type": "code",
   "execution_count": 23,
   "metadata": {},
   "outputs": [
    {
     "data": {
      "text/plain": [
       "array([[[9, 9, 9, 9],\n",
       "        [9, 9, 9, 9],\n",
       "        [9, 9, 9, 9]],\n",
       "\n",
       "       [[9, 9, 9, 9],\n",
       "        [9, 9, 9, 9],\n",
       "        [9, 9, 9, 9]]])"
      ]
     },
     "execution_count": 23,
     "metadata": {},
     "output_type": "execute_result"
    }
   ],
   "source": [
    "# # filling out with default values (x,y,z),i=what number to fill it with\n",
    "set7=np.full((2,3,4),9) \n",
    "set7"
   ]
  },
  {
   "cell_type": "code",
   "execution_count": 26,
   "metadata": {},
   "outputs": [
    {
     "data": {
      "text/plain": [
       "array([[[0., 0., 0., 0.],\n",
       "        [0., 0., 0., 0.],\n",
       "        [0., 0., 0., 0.]],\n",
       "\n",
       "       [[0., 0., 0., 0.],\n",
       "        [0., 0., 0., 0.],\n",
       "        [0., 0., 0., 0.]]])"
      ]
     },
     "execution_count": 26,
     "metadata": {},
     "output_type": "execute_result"
    }
   ],
   "source": [
    "# filling out with zeros\n",
    "set8=np.zeros((2,3,4))\n",
    "set8"
   ]
  },
  {
   "cell_type": "code",
   "execution_count": 27,
   "metadata": {},
   "outputs": [
    {
     "data": {
      "text/plain": [
       "array([[[1., 1., 1., 1.],\n",
       "        [1., 1., 1., 1.],\n",
       "        [1., 1., 1., 1.]],\n",
       "\n",
       "       [[1., 1., 1., 1.],\n",
       "        [1., 1., 1., 1.],\n",
       "        [1., 1., 1., 1.]]])"
      ]
     },
     "execution_count": 27,
     "metadata": {},
     "output_type": "execute_result"
    }
   ],
   "source": [
    "# filling out with ones\n",
    "set9=np.ones((2,3,4))\n",
    "set9"
   ]
  },
  {
   "cell_type": "code",
   "execution_count": 31,
   "metadata": {},
   "outputs": [
    {
     "data": {
      "text/plain": [
       "array([[[4.45057637e-308, 9.34604358e-307, 9.34605037e-307],\n",
       "        [1.11260483e-306, 1.78019354e-306, 4.45066125e-308],\n",
       "        [9.34605037e-307, 1.60220393e-306, 1.24611674e-306]],\n",
       "\n",
       "       [[4.45057637e-308, 9.34597567e-307, 2.22523004e-306],\n",
       "        [2.13620264e-306, 4.45063578e-308, 1.37961302e-306],\n",
       "        [8.45596650e-307, 5.73116149e-322, 9.34608432e-307]]])"
      ]
     },
     "execution_count": 31,
     "metadata": {},
     "output_type": "execute_result"
    }
   ],
   "source": [
    "# filling out without intializing the values\n",
    "set10=np.empty((2,3,3))\n",
    "set10"
   ]
  },
  {
   "cell_type": "code",
   "execution_count": 35,
   "metadata": {},
   "outputs": [
    {
     "data": {
      "text/plain": [
       "array([ 0,  5, 10, 15, 20, 25, 30, 35, 40, 45, 50, 55, 60, 65, 70, 75, 80,\n",
       "       85, 90, 95])"
      ]
     },
     "execution_count": 35,
     "metadata": {},
     "output_type": "execute_result"
    }
   ],
   "source": [
    "# generating values sequence\n",
    "set11=np.arange(0,100,5) # (a,b,c)= (start value, end value, step size )\n",
    "set11"
   ]
  },
  {
   "cell_type": "code",
   "execution_count": 37,
   "metadata": {},
   "outputs": [
    {
     "data": {
      "text/plain": [
       "array([   0.        ,  111.11111111,  222.22222222,  333.33333333,\n",
       "        444.44444444,  555.55555556,  666.66666667,  777.77777778,\n",
       "        888.88888889, 1000.        ])"
      ]
     },
     "execution_count": 37,
     "metadata": {},
     "output_type": "execute_result"
    }
   ],
   "source": [
    "set12=np.linspace(0,1000,10) # (start value, end value, how many values to generate)\n",
    "set12"
   ]
  },
  {
   "cell_type": "code",
   "execution_count": 39,
   "metadata": {},
   "outputs": [
    {
     "name": "stdout",
     "output_type": "stream",
     "text": [
      "nan\n",
      "inf\n",
      "True\n",
      "nan\n",
      "True\n",
      "[inf]\n"
     ]
    },
    {
     "name": "stderr",
     "output_type": "stream",
     "text": [
      "C:\\Users\\Owner\\Anaconda3\\lib\\site-packages\\ipykernel_launcher.py:6: RuntimeWarning: invalid value encountered in sqrt\n",
      "  \n",
      "C:\\Users\\Owner\\Anaconda3\\lib\\site-packages\\ipykernel_launcher.py:8: RuntimeWarning: divide by zero encountered in true_divide\n",
      "  \n"
     ]
    }
   ],
   "source": [
    "# using Nan and Inf\n",
    "print(np.nan) # to fill out null values in a data set\n",
    "print(np.inf) # for values divided by 0\n",
    "# to indentify\n",
    "print (np.isnan(np.nan)) \n",
    "print (np.sqrt(-1))\n",
    "print(np.isinf(np.inf))\n",
    "print (np.array([10])/0)"
   ]
  },
  {
   "cell_type": "code",
   "execution_count": 42,
   "metadata": {},
   "outputs": [
    {
     "name": "stdout",
     "output_type": "stream",
     "text": [
      "[1, 2, 3, 4, 1, 2, 3, 4, 1, 2, 3, 4, 1, 2, 3, 4]\n",
      "[ 4  8 12 16]\n"
     ]
    }
   ],
   "source": [
    "# performing mathematical operations \n",
    "l1= [1,2,3,4]\n",
    "l2= [5,6,7,8]\n",
    "# converting list to arrays \n",
    "a1=np.array(l1) \n",
    "a2=np.array(l2)\n",
    "\n",
    "print(l1*4) # duplicates list 4 times\n",
    "print(a1*4) # multiplies each values in array by 4"
   ]
  },
  {
   "cell_type": "code",
   "execution_count": 44,
   "metadata": {},
   "outputs": [
    {
     "name": "stdout",
     "output_type": "stream",
     "text": [
      "[3 4 5 6]\n"
     ]
    }
   ],
   "source": [
    "#print (l1+2) # unable to add lists\n",
    "print (a1+2) # adds each values in array by 2"
   ]
  },
  {
   "cell_type": "code",
   "execution_count": 45,
   "metadata": {},
   "outputs": [
    {
     "name": "stdout",
     "output_type": "stream",
     "text": [
      "[1, 2, 3, 4, 5, 6, 7, 8]\n",
      "[0.2        0.33333333 0.42857143 0.5       ]\n"
     ]
    }
   ],
   "source": [
    "print (l1+l2) # add both lists into a single list\n",
    "print (a1/a2) # divides each values among themselves"
   ]
  },
  {
   "cell_type": "code",
   "execution_count": 47,
   "metadata": {},
   "outputs": [
    {
     "data": {
      "text/plain": [
       "array([1, 2, 3, 4, 5, 6])"
      ]
     },
     "execution_count": 47,
     "metadata": {},
     "output_type": "execute_result"
    }
   ],
   "source": [
    "# additing a list into an array\n",
    "set13= np.array([1,2,3])\n",
    "set13=np.append(set13, [4,5,6])\n",
    "set13"
   ]
  },
  {
   "cell_type": "code",
   "execution_count": 48,
   "metadata": {},
   "outputs": [
    {
     "data": {
      "text/plain": [
       "array([1, 2, 3, 4, 5, 6, 7, 8, 9])"
      ]
     },
     "execution_count": 48,
     "metadata": {},
     "output_type": "execute_result"
    }
   ],
   "source": [
    "# Inserting a list into an array\n",
    "set14=np.insert (set13,6,[7,8,9])\n",
    "set14"
   ]
  },
  {
   "cell_type": "code",
   "execution_count": 56,
   "metadata": {},
   "outputs": [
    {
     "name": "stdout",
     "output_type": "stream",
     "text": [
      "[1 3 4 5 6 7 8 9]\n"
     ]
    }
   ],
   "source": [
    "# Delelting a value from an array\n",
    "print(np.delete(set14,1)) # delete number position"
   ]
  },
  {
   "cell_type": "code",
   "execution_count": 57,
   "metadata": {},
   "outputs": [
    {
     "name": "stdout",
     "output_type": "stream",
     "text": [
      "[[2 4 6]\n",
      " [1 2 4]]\n"
     ]
    }
   ],
   "source": [
    "print(np.delete(set6,1,0)) # delete second row"
   ]
  },
  {
   "cell_type": "code",
   "execution_count": 58,
   "metadata": {},
   "outputs": [
    {
     "name": "stdout",
     "output_type": "stream",
     "text": [
      "[[[2 4 6 8]\n",
      "  [2 4 6 8]\n",
      "  [2 4 6 8]]]\n"
     ]
    }
   ],
   "source": [
    "print (np.delete(set3,0,0)) # delete first row"
   ]
  },
  {
   "cell_type": "code",
   "execution_count": 86,
   "metadata": {},
   "outputs": [
    {
     "name": "stdout",
     "output_type": "stream",
     "text": [
      "[[ 1  2  3  4]\n",
      " [ 5  6  7  8]\n",
      " [ 9 10 11 12]]\n"
     ]
    },
    {
     "data": {
      "text/plain": [
       "(3, 4)"
      ]
     },
     "execution_count": 86,
     "metadata": {},
     "output_type": "execute_result"
    }
   ],
   "source": [
    "# reshaping an array\n",
    "set15=np.array([[1,2,3,4],\n",
    "               [5,6,7,8],\n",
    "               [9,10,11,12]])\n",
    "print(set15)\n",
    "set15.shape"
   ]
  },
  {
   "cell_type": "code",
   "execution_count": 66,
   "metadata": {},
   "outputs": [
    {
     "name": "stdout",
     "output_type": "stream",
     "text": [
      "[[ 1  2  3]\n",
      " [ 4  5  6]\n",
      " [ 7  8  9]\n",
      " [10 11 12]]\n"
     ]
    }
   ],
   "source": [
    "set16= print(set15.reshape((4,3)))"
   ]
  },
  {
   "cell_type": "code",
   "execution_count": 77,
   "metadata": {},
   "outputs": [
    {
     "name": "stdout",
     "output_type": "stream",
     "text": [
      "[ 1  2  3  4  5  6  7  8  9 10 11 12]\n"
     ]
    }
   ],
   "source": [
    "set17=print(set15.flatten()) # display one dimensional array "
   ]
  },
  {
   "cell_type": "code",
   "execution_count": 87,
   "metadata": {},
   "outputs": [
    {
     "name": "stdout",
     "output_type": "stream",
     "text": [
      "[ 1  2  3  4  5  6  7  8  9 10 11 12]\n"
     ]
    }
   ],
   "source": [
    "set18= print(set15.ravel()) # same function but returns only a flat view"
   ]
  },
  {
   "cell_type": "code",
   "execution_count": 78,
   "metadata": {},
   "outputs": [
    {
     "name": "stdout",
     "output_type": "stream",
     "text": [
      "[ 1  2 50  4  5  6  7  8  9 10 11 12]\n",
      "[[ 1  2  3  4]\n",
      " [ 5  6  7  8]\n",
      " [ 9 10 11 12]]\n"
     ]
    }
   ],
   "source": [
    "var1=set15.flatten()\n",
    "var1[2]= 50\n",
    "print (var1)\n",
    "print (set15)"
   ]
  },
  {
   "cell_type": "code",
   "execution_count": 88,
   "metadata": {},
   "outputs": [
    {
     "name": "stdout",
     "output_type": "stream",
     "text": [
      "[ 1  2 50  4  5  6  7  8  9 10 11 12]\n",
      "[[ 1  2 50  4]\n",
      " [ 5  6  7  8]\n",
      " [ 9 10 11 12]]\n"
     ]
    }
   ],
   "source": [
    "var2=set15.ravel()\n",
    "var2[2]= 50\n",
    "print (var2)\n",
    "print (set15)"
   ]
  },
  {
   "cell_type": "code",
   "execution_count": 112,
   "metadata": {},
   "outputs": [
    {
     "data": {
      "text/plain": [
       "array([[ 1,  2,  3,  4, 20],\n",
       "       [ 5,  6,  7,  8, 30],\n",
       "       [ 9, 10, 11, 12, 13],\n",
       "       [14, 15, 16, 17, 18]])"
      ]
     },
     "execution_count": 112,
     "metadata": {},
     "output_type": "execute_result"
    }
   ],
   "source": [
    "set19= np.array([[1,2,3,4,20],\n",
    "                 [5,6,7,8,30],\n",
    "                 [9,10,11,12,13],\n",
    "                 [14,15,16,17,18]])\n",
    "set19"
   ]
  },
  {
   "cell_type": "code",
   "execution_count": 104,
   "metadata": {},
   "outputs": [
    {
     "name": "stdout",
     "output_type": "stream",
     "text": [
      "[[ 1  5  9 14]\n",
      " [ 2  6 10 15]\n",
      " [ 3  7 11 16]\n",
      " [ 4  8 12 17]\n",
      " [20 30 13 18]]\n"
     ]
    }
   ],
   "source": [
    "print(set19.T) # switch axes"
   ]
  },
  {
   "cell_type": "code",
   "execution_count": 111,
   "metadata": {},
   "outputs": [
    {
     "name": "stdout",
     "output_type": "stream",
     "text": [
      "[[ 1  5  9 14]\n",
      " [ 2  6 10 15]\n",
      " [ 3  7 11 16]\n",
      " [ 4  8 12 17]\n",
      " [20 30 13 18]]\n"
     ]
    }
   ],
   "source": [
    "print(set19.swapaxes(1,0)) # specifiy which axes to swap"
   ]
  },
  {
   "cell_type": "code",
   "execution_count": 141,
   "metadata": {},
   "outputs": [],
   "source": [
    "# Array Merge\n",
    "set20=np.array([[1,2,3,4],\n",
    "                [5,6,7,8]])\n",
    "set21=np.array([[9,10,11,12],\n",
    "              [13,14,15,16]])"
   ]
  },
  {
   "cell_type": "code",
   "execution_count": 122,
   "metadata": {},
   "outputs": [
    {
     "name": "stdout",
     "output_type": "stream",
     "text": [
      "[[ 1  2  3  4]\n",
      " [ 5  6  7  8]\n",
      " [ 9 10 11 12]\n",
      " [13 14 15 16]]\n",
      "[[ 1  2  3  4  9 10 11 12]\n",
      " [ 5  6  7  8 13 14 15 16]]\n"
     ]
    }
   ],
   "source": [
    "print(np.concatenate((set20,set21), axis=0)) # Merge into 1 array; 0= rows, 1= columns\n",
    "print(np.concatenate((set20,set21),axis=1))"
   ]
  },
  {
   "cell_type": "code",
   "execution_count": 130,
   "metadata": {},
   "outputs": [
    {
     "name": "stdout",
     "output_type": "stream",
     "text": [
      "[[ 1  2  3  4]\n",
      " [ 5  6  7  8]\n",
      " [ 9 10 11 12]\n",
      " [13 14 15 16]]\n",
      "[[ 1  2  3  4  9 10 11 12]\n",
      " [ 5  6  7  8 13 14 15 16]]\n"
     ]
    }
   ],
   "source": [
    "# stack adds a new dimension\n",
    "print(np.vstack((set20,set21))) # vertical\n",
    "print(np.hstack((set20,set21))) # horizontal"
   ]
  },
  {
   "cell_type": "code",
   "execution_count": 137,
   "metadata": {},
   "outputs": [
    {
     "name": "stdout",
     "output_type": "stream",
     "text": [
      "[array([[1, 2, 3, 4]]), array([[5, 6, 7, 8]])]\n"
     ]
    }
   ],
   "source": [
    "# Splitting arrays\n",
    "print(np.split(set20, 2, axis =0)) # splitting into 2 arrays"
   ]
  },
  {
   "cell_type": "code",
   "execution_count": 142,
   "metadata": {},
   "outputs": [
    {
     "name": "stdout",
     "output_type": "stream",
     "text": [
      "1\n",
      "8\n",
      "4.5\n",
      "4.5\n",
      "2.29128784747792\n"
     ]
    }
   ],
   "source": [
    "# aggregate functions\n",
    "print(set20.min())\n",
    "print(set20.max())\n",
    "print(set20.mean())\n",
    "print(np.median(set20))\n",
    "print(set20.std())"
   ]
  },
  {
   "cell_type": "code",
   "execution_count": 144,
   "metadata": {},
   "outputs": [
    {
     "name": "stdout",
     "output_type": "stream",
     "text": [
      "50\n"
     ]
    }
   ],
   "source": [
    "#NumPY Random\n",
    "print(np.random.randint(100))"
   ]
  },
  {
   "cell_type": "code",
   "execution_count": 145,
   "metadata": {},
   "outputs": [
    {
     "name": "stdout",
     "output_type": "stream",
     "text": [
      "[[[97 94 94 95]\n",
      "  [92 95 98 99]\n",
      "  [97 99 98 99]]\n",
      "\n",
      " [[99 90 97 95]\n",
      "  [92 99 96 96]\n",
      "  [92 90 91 92]]]\n"
     ]
    }
   ],
   "source": [
    "print(np.random.randint(90,100, size=(2,3,4))) # 90 min, 100 max "
   ]
  },
  {
   "cell_type": "code",
   "execution_count": 146,
   "metadata": {},
   "outputs": [
    {
     "name": "stdout",
     "output_type": "stream",
     "text": [
      "[[2 1 1 3 2 5 1 1 1 3]\n",
      " [1 2 4 2 2 1 4 2 4 2]\n",
      " [1 1 4 0 0 1 2 1 1 2]\n",
      " [3 3 1 2 2 3 3 3 2 1]\n",
      " [1 2 2 0 2 3 2 3 1 4]]\n"
     ]
    }
   ],
   "source": [
    "print(np.random.binomial(10, p=0.2, size=(5,10))) # random by binmial"
   ]
  },
  {
   "cell_type": "code",
   "execution_count": 148,
   "metadata": {},
   "outputs": [
    {
     "name": "stdout",
     "output_type": "stream",
     "text": [
      "[[140.88820877 136.91828751 153.60618336 150.56922635 161.92051646\n",
      "  158.37471694 148.84476896 157.74827253 153.45594865 165.90228823]\n",
      " [142.86925355 137.33208536 173.31151604 141.11441603 156.78612629\n",
      "  174.59784007 153.22360068 160.78910405 135.50609668 152.47402852]\n",
      " [164.37013319 136.41577859 153.80125901 145.13845841 158.25160532\n",
      "  139.42093489 146.06492822 141.08751297 158.9276709  153.75509197]\n",
      " [154.85508995 147.61131847 165.57692225 145.63722329 151.90076352\n",
      "  138.79664991 152.60581266 152.95067899 141.80977225 148.91347871]\n",
      " [147.8341498  141.17954221 153.42815027 143.69672122 158.29224666\n",
      "  161.07217492 138.17114693 147.28371658 156.24460755 166.9380023 ]]\n"
     ]
    }
   ],
   "source": [
    "print(np.random.normal(loc=150, scale=10, size=(5,10))) # random by normal"
   ]
  },
  {
   "cell_type": "code",
   "execution_count": 149,
   "metadata": {},
   "outputs": [
    {
     "name": "stdout",
     "output_type": "stream",
     "text": [
      "[[20 60 80 80 40 20 20 40 20 60]\n",
      " [40 20 80 20 80 80 80 60 80 80]\n",
      " [80 60 20 60 80 60 40 60 20 80]\n",
      " [40 20 20 20 20 80 20 40 20 20]\n",
      " [40 40 80 60 60 80 60 20 80 60]]\n"
     ]
    }
   ],
   "source": [
    "print(np.random.choice([20,40,60,80], size =(5,10))) # random by choice"
   ]
  },
  {
   "cell_type": "code",
   "execution_count": 152,
   "metadata": {},
   "outputs": [],
   "source": [
    "#exporting and Importing\n",
    "#np.save(\"Numpy Implementation.npy\",set20) # save as numpy "
   ]
  },
  {
   "cell_type": "code",
   "execution_count": null,
   "metadata": {},
   "outputs": [],
   "source": [
    "#np.load(\"Numpy Implementation.npy\")  # load as numpy"
   ]
  },
  {
   "cell_type": "code",
   "execution_count": null,
   "metadata": {},
   "outputs": [],
   "source": [
    "#np.savetext(\"Numpy Implementation.csv\", set20, delimiter= \",\") # Save as txt file"
   ]
  },
  {
   "cell_type": "code",
   "execution_count": null,
   "metadata": {},
   "outputs": [],
   "source": []
  }
 ],
 "metadata": {
  "kernelspec": {
   "display_name": "Python 3",
   "language": "python",
   "name": "python3"
  },
  "language_info": {
   "codemirror_mode": {
    "name": "ipython",
    "version": 3
   },
   "file_extension": ".py",
   "mimetype": "text/x-python",
   "name": "python",
   "nbconvert_exporter": "python",
   "pygments_lexer": "ipython3",
   "version": "3.7.3"
  }
 },
 "nbformat": 4,
 "nbformat_minor": 2
}
