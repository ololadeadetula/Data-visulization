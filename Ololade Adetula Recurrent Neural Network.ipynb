{
 "cells": [
  {
   "cell_type": "markdown",
   "id": "0f67e899",
   "metadata": {},
   "source": [
    "# Name: Ololade Adetula \n",
    "# Course: Programming and Algorithms for Data Science"
   ]
  },
  {
   "cell_type": "code",
   "execution_count": 1,
   "id": "ab221c16",
   "metadata": {},
   "outputs": [],
   "source": [
    "# Importing environment supporting tensorflow\n",
    "import os\n",
    "os.environ[\"TF_CPP_MIN_LOG_LEVEL\"] = \"2\""
   ]
  },
  {
   "cell_type": "code",
   "execution_count": 2,
   "id": "9b18d8aa",
   "metadata": {},
   "outputs": [],
   "source": [
    "# Packages implemented\n",
    "import tensorflow as tf\n",
    "from tensorflow import keras\n",
    "from tensorflow.keras import layers"
   ]
  },
  {
   "cell_type": "code",
   "execution_count": 3,
   "id": "05f3c4f4",
   "metadata": {},
   "outputs": [],
   "source": [
    "# Specific Dataset from the Keras website. \n",
    "mnist = keras.datasets.mnist"
   ]
  },
  {
   "cell_type": "code",
   "execution_count": 6,
   "id": "eebaa4d2",
   "metadata": {},
   "outputs": [],
   "source": [
    "# Creating testing and training data.\n",
    "(x_train, y_train), (x_test, y_test) = mnist.load_data()\n",
    "x_train, x_test = x_train / 255.0, x_test / 255.0\n",
    "# 28, 28 -> treat image as sequence\n",
    "# input_size=28\n",
    "# seq_length=28"
   ]
  },
  {
   "cell_type": "markdown",
   "id": "03d8d9ff",
   "metadata": {},
   "source": [
    "The standard output of an RNN layer is a single vector per sample, representing the RNN cell output at the last timestep. This vector contains comprehensive information about the entire input sequence and has a shape of (N, units), where N is the number of samples.\n",
    "\n",
    "Alternatively, by configuring the RNN layer with return_sequences=True, it can produce the complete sequence of outputs for each sample. In this case, each timestep for every sample is represented by a vector, resulting in an output shape of (N, timesteps, units)."
   ]
  },
  {
   "cell_type": "code",
   "execution_count": 7,
   "id": "5444c053",
   "metadata": {},
   "outputs": [
    {
     "name": "stdout",
     "output_type": "stream",
     "text": [
      "Model: \"sequential\"\n",
      "_________________________________________________________________\n",
      " Layer (type)                Output Shape              Param #   \n",
      "=================================================================\n",
      " lstm (LSTM)                 (None, 128)               80384     \n",
      "                                                                 \n",
      " dense (Dense)               (None, 10)                1290      \n",
      "                                                                 \n",
      "=================================================================\n",
      "Total params: 81674 (319.04 KB)\n",
      "Trainable params: 81674 (319.04 KB)\n",
      "Non-trainable params: 0 (0.00 Byte)\n",
      "_________________________________________________________________\n",
      "None\n"
     ]
    }
   ],
   "source": [
    "# Sequential API aprroach using Keras \n",
    "model = keras.models.Sequential()\n",
    "model.add(keras.Input(shape=(28,28))) # shape= (seq_length, input_size)\n",
    "\n",
    "model.add(layers.LSTM(128, return_sequences=False, activation='relu')) # N, 128\n",
    "#(ReLU) is an activation function that introduces the property of non-linearity to a deep learning model and solves the vanishing gradients issue.\n",
    "model.add(layers.Dense(10))\n",
    "print(model.summary())"
   ]
  },
  {
   "cell_type": "code",
   "execution_count": 8,
   "id": "0c74f5c9",
   "metadata": {},
   "outputs": [
    {
     "name": "stderr",
     "output_type": "stream",
     "text": [
      "WARNING:absl:`lr` is deprecated in Keras optimizer, please use `learning_rate` or use the legacy optimizer, e.g.,tf.keras.optimizers.legacy.Adam.\n"
     ]
    }
   ],
   "source": [
    "# loss and optimizer\n",
    "loss = keras.losses.SparseCategoricalCrossentropy(from_logits=True)\n",
    "optim = keras.optimizers.Adam(lr=0.001)\n",
    "metrics = [\"accuracy\"]"
   ]
  },
  {
   "cell_type": "code",
   "execution_count": 9,
   "id": "33406854",
   "metadata": {},
   "outputs": [],
   "source": [
    "model.compile(loss=loss, optimizer=optim, metrics=metrics)"
   ]
  },
  {
   "cell_type": "code",
   "execution_count": 10,
   "id": "fbbaa858",
   "metadata": {},
   "outputs": [],
   "source": [
    "# training\n",
    "batch_size = 64 # Allocated size, changeable if need be. \n",
    "epochs = 5"
   ]
  },
  {
   "cell_type": "code",
   "execution_count": 11,
   "id": "9afa3786",
   "metadata": {},
   "outputs": [
    {
     "name": "stdout",
     "output_type": "stream",
     "text": [
      "Epoch 1/5\n",
      "938/938 - 51s - loss: 0.5123 - accuracy: 0.8374 - 51s/epoch - 54ms/step\n",
      "Epoch 2/5\n",
      "938/938 - 44s - loss: 0.1363 - accuracy: 0.9584 - 44s/epoch - 47ms/step\n",
      "Epoch 3/5\n",
      "938/938 - 42s - loss: 0.0938 - accuracy: 0.9707 - 42s/epoch - 45ms/step\n",
      "Epoch 4/5\n",
      "938/938 - 43s - loss: 0.0747 - accuracy: 0.9769 - 43s/epoch - 46ms/step\n",
      "Epoch 5/5\n",
      "938/938 - 43s - loss: 0.0630 - accuracy: 0.9811 - 43s/epoch - 46ms/step\n"
     ]
    },
    {
     "data": {
      "text/plain": [
       "<keras.src.callbacks.History at 0x2f04a79c5d0>"
      ]
     },
     "execution_count": 11,
     "metadata": {},
     "output_type": "execute_result"
    }
   ],
   "source": [
    "model.fit(x_train, y_train, batch_size=batch_size, epochs=epochs, verbose=2)"
   ]
  },
  {
   "cell_type": "code",
   "execution_count": 12,
   "id": "179e4dbf",
   "metadata": {},
   "outputs": [
    {
     "name": "stdout",
     "output_type": "stream",
     "text": [
      "157/157 - 6s - loss: 0.0594 - accuracy: 0.9836 - 6s/epoch - 38ms/step\n"
     ]
    },
    {
     "data": {
      "text/plain": [
       "[0.059382110834121704, 0.9836000204086304]"
      ]
     },
     "execution_count": 12,
     "metadata": {},
     "output_type": "execute_result"
    }
   ],
   "source": [
    "# Evaulation of the split model. \n",
    "model.evaluate(x_test, y_test, batch_size=batch_size, verbose=2)"
   ]
  },
  {
   "cell_type": "code",
   "execution_count": null,
   "id": "39dd88f7",
   "metadata": {},
   "outputs": [],
   "source": []
  }
 ],
 "metadata": {
  "kernelspec": {
   "display_name": "Python 3 (ipykernel)",
   "language": "python",
   "name": "python3"
  },
  "language_info": {
   "codemirror_mode": {
    "name": "ipython",
    "version": 3
   },
   "file_extension": ".py",
   "mimetype": "text/x-python",
   "name": "python",
   "nbconvert_exporter": "python",
   "pygments_lexer": "ipython3",
   "version": "3.11.5"
  }
 },
 "nbformat": 4,
 "nbformat_minor": 5
}
