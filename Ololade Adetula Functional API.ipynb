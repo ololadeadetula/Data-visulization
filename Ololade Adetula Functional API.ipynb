{
 "cells": [
  {
   "cell_type": "markdown",
   "id": "f2850eb7",
   "metadata": {},
   "source": [
    "## Ololade Adetula\n",
    "## Functional API"
   ]
  },
  {
   "cell_type": "code",
   "execution_count": 1,
   "id": "e63b8207",
   "metadata": {},
   "outputs": [],
   "source": [
    "# Importing environment supporting tensorflow\n",
    "import os\n",
    "os.environ['TF_CPP_MIN_LOG_LEVEL'] = '2'\n",
    "# Packages implemented \n",
    "import tensorflow as tf\n",
    "from tensorflow import keras\n",
    "import numpy as np"
   ]
  },
  {
   "cell_type": "code",
   "execution_count": 2,
   "id": "8f431e92",
   "metadata": {},
   "outputs": [],
   "source": [
    "# Defining Functional Model\n",
    "inputs = keras.Input(shape=(28,28))\n",
    "flatten = keras.layers.Flatten()\n",
    "dense1 = keras.layers.Dense(128, activation='relu')\n",
    "\n",
    "dense2 = keras.layers.Dense(10, activation='softmax', name=\"category_output\")\n",
    "dense3 = keras.layers.Dense(1, activation='sigmoid', name=\"leftright_output\")"
   ]
  },
  {
   "cell_type": "code",
   "execution_count": 3,
   "id": "d5e46206",
   "metadata": {},
   "outputs": [],
   "source": [
    "x = flatten(inputs)\n",
    "x = dense1(x)\n",
    "outputs1 = dense2(x)\n",
    "outputs2 = dense3(x)\n",
    "\n",
    "model = keras.Model(inputs=inputs, outputs=[outputs1, outputs2], name=\"mnist_model\")"
   ]
  },
  {
   "cell_type": "code",
   "execution_count": 4,
   "id": "f7bb82c0",
   "metadata": {},
   "outputs": [
    {
     "name": "stdout",
     "output_type": "stream",
     "text": [
      "Model: \"mnist_model\"\n",
      "__________________________________________________________________________________________________\n",
      " Layer (type)                Output Shape                 Param #   Connected to                  \n",
      "==================================================================================================\n",
      " input_1 (InputLayer)        [(None, 28, 28)]             0         []                            \n",
      "                                                                                                  \n",
      " flatten (Flatten)           (None, 784)                  0         ['input_1[0][0]']             \n",
      "                                                                                                  \n",
      " dense (Dense)               (None, 128)                  100480    ['flatten[0][0]']             \n",
      "                                                                                                  \n",
      " category_output (Dense)     (None, 10)                   1290      ['dense[0][0]']               \n",
      "                                                                                                  \n",
      " leftright_output (Dense)    (None, 1)                    129       ['dense[0][0]']               \n",
      "                                                                                                  \n",
      "==================================================================================================\n",
      "Total params: 101899 (398.04 KB)\n",
      "Trainable params: 101899 (398.04 KB)\n",
      "Non-trainable params: 0 (0.00 Byte)\n",
      "__________________________________________________________________________________________________\n"
     ]
    }
   ],
   "source": [
    "model.summary()"
   ]
  },
  {
   "cell_type": "code",
   "execution_count": 5,
   "id": "fe54a5dd",
   "metadata": {},
   "outputs": [
    {
     "name": "stderr",
     "output_type": "stream",
     "text": [
      "WARNING:absl:`lr` is deprecated in Keras optimizer, please use `learning_rate` or use the legacy optimizer, e.g.,tf.keras.optimizers.legacy.Adam.\n"
     ]
    }
   ],
   "source": [
    "# loss and optimizer\n",
    "loss1 = keras.losses.SparseCategoricalCrossentropy(from_logits=False)\n",
    "loss2 = keras.losses.BinaryCrossentropy(from_logits=False)\n",
    "optim = keras.optimizers.Adam(lr=0.001)\n",
    "metrics = [\"accuracy\"]\n",
    "\n",
    "losses = {\n",
    "    \"category_output\": loss1,\n",
    "    \"leftright_output\": loss2,\n",
    "}\n",
    "\n",
    "model.compile(loss=losses, optimizer=optim, metrics=metrics)"
   ]
  },
  {
   "cell_type": "code",
   "execution_count": 6,
   "id": "e21f57d3",
   "metadata": {},
   "outputs": [
    {
     "name": "stdout",
     "output_type": "stream",
     "text": [
      "uint8 [5 0 4 1 9 2 1 3 1 4 3 5 3 6 1 7 2 8 6 9]\n",
      "uint8 [0 0 0 0 1 0 0 0 0 0 0 0 0 1 0 1 0 1 1 1]\n"
     ]
    }
   ],
   "source": [
    "# create data with 2 labels\n",
    "mnist = keras.datasets.mnist\n",
    "(x_train, y_train), (x_test, y_test) = mnist.load_data()\n",
    "x_train, x_test = x_train / 255.0, x_test / 255.0\n",
    "\n",
    "# 0=left, 1=right\n",
    "y_leftright = np.zeros(y_train.shape, dtype=np.uint8)\n",
    "for idx, y in enumerate(y_train):\n",
    "    if y > 5:\n",
    "        y_leftright[idx] = 1\n",
    "\n",
    "print(y_train.dtype, y_train[0:20])\n",
    "print(y_leftright.dtype, y_leftright[0:20])\n",
    "\n",
    "y= {\"category_output\": y_train,\n",
    "    \"leftright_output\": y_leftright }"
   ]
  },
  {
   "cell_type": "code",
   "execution_count": 7,
   "id": "b3e4f34b",
   "metadata": {},
   "outputs": [
    {
     "name": "stdout",
     "output_type": "stream",
     "text": [
      "Epoch 1/5\n",
      "938/938 - 8s - loss: 0.5128 - category_output_loss: 0.3131 - leftright_output_loss: 0.1998 - category_output_accuracy: 0.9126 - leftright_output_accuracy: 0.9270 - 8s/epoch - 8ms/step\n",
      "Epoch 2/5\n",
      "938/938 - 3s - loss: 0.2409 - category_output_loss: 0.1426 - leftright_output_loss: 0.0983 - category_output_accuracy: 0.9590 - leftright_output_accuracy: 0.9671 - 3s/epoch - 3ms/step\n",
      "Epoch 3/5\n",
      "938/938 - 3s - loss: 0.1795 - category_output_loss: 0.1031 - leftright_output_loss: 0.0765 - category_output_accuracy: 0.9699 - leftright_output_accuracy: 0.9738 - 3s/epoch - 3ms/step\n",
      "Epoch 4/5\n",
      "938/938 - 3s - loss: 0.1447 - category_output_loss: 0.0802 - leftright_output_loss: 0.0645 - category_output_accuracy: 0.9758 - leftright_output_accuracy: 0.9784 - 3s/epoch - 3ms/step\n",
      "Epoch 5/5\n",
      "938/938 - 3s - loss: 0.1185 - category_output_loss: 0.0636 - leftright_output_loss: 0.0549 - category_output_accuracy: 0.9808 - leftright_output_accuracy: 0.9811 - 3s/epoch - 3ms/step\n"
     ]
    },
    {
     "data": {
      "text/plain": [
       "<keras.src.callbacks.History at 0x23d529cee90>"
      ]
     },
     "execution_count": 7,
     "metadata": {},
     "output_type": "execute_result"
    }
   ],
   "source": [
    "# training set\n",
    "model.fit(x_train, y=y, epochs=5,\n",
    "          batch_size=64, verbose=2)"
   ]
  },
  {
   "cell_type": "code",
   "execution_count": 8,
   "id": "8f26092a",
   "metadata": {},
   "outputs": [
    {
     "name": "stdout",
     "output_type": "stream",
     "text": [
      "313/313 [==============================] - 1s 2ms/step\n"
     ]
    },
    {
     "data": {
      "text/plain": [
       "2"
      ]
     },
     "execution_count": 8,
     "metadata": {},
     "output_type": "execute_result"
    }
   ],
   "source": [
    "# list with 2 predictions\n",
    "predictions = model.predict(x_test)\n",
    "len(predictions)"
   ]
  },
  {
   "cell_type": "code",
   "execution_count": 9,
   "id": "f4133c26",
   "metadata": {},
   "outputs": [],
   "source": [
    "# prediction metric\n",
    "prediction_category = predictions[0]\n",
    "prediction_lr = predictions[1]\n",
    "\n",
    "pr_cat = prediction_category[0:20]\n",
    "prediction_lr = prediction_lr[0:20]\n",
    "\n",
    "labels_cat = np.argmax(pr_cat, axis=1)\n",
    "labels_lr = np.array([1 if p >= 0.5 else 0 for p in prediction_lr])"
   ]
  },
  {
   "cell_type": "code",
   "execution_count": 10,
   "id": "cf1eb27f",
   "metadata": {},
   "outputs": [
    {
     "name": "stdout",
     "output_type": "stream",
     "text": [
      "[7 2 1 0 4 1 4 9 5 9 0 6 9 0 1 5 9 7 3 4]\n",
      "[7 2 1 0 4 1 4 9 6 9 0 6 9 0 1 5 9 7 3 4]\n",
      "[1 0 0 0 0 0 0 1 0 1 0 1 1 0 0 0 1 1 0 0]\n"
     ]
    }
   ],
   "source": [
    "print(y_test[0:20])\n",
    "print(labels_cat)\n",
    "print(labels_lr)"
   ]
  },
  {
   "cell_type": "code",
   "execution_count": null,
   "id": "38a243dd",
   "metadata": {},
   "outputs": [],
   "source": []
  }
 ],
 "metadata": {
  "kernelspec": {
   "display_name": "Python 3 (ipykernel)",
   "language": "python",
   "name": "python3"
  },
  "language_info": {
   "codemirror_mode": {
    "name": "ipython",
    "version": 3
   },
   "file_extension": ".py",
   "mimetype": "text/x-python",
   "name": "python",
   "nbconvert_exporter": "python",
   "pygments_lexer": "ipython3",
   "version": "3.11.5"
  }
 },
 "nbformat": 4,
 "nbformat_minor": 5
}
