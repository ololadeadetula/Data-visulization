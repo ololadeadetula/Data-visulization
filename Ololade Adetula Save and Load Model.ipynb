{
 "cells": [
  {
   "cell_type": "markdown",
   "id": "e4d7a5cc",
   "metadata": {},
   "source": [
    "## Ololade Adetula\n",
    "## Saving and Loading Models"
   ]
  },
  {
   "cell_type": "code",
   "execution_count": 1,
   "id": "b7fd434f",
   "metadata": {},
   "outputs": [],
   "source": [
    "# Importing environment supporting tensorflow\n",
    "import os\n",
    "os.environ['TF_CPP_MIN_LOG_LEVEL'] = '2'"
   ]
  },
  {
   "cell_type": "code",
   "execution_count": 2,
   "id": "43abb3ea",
   "metadata": {},
   "outputs": [],
   "source": [
    "# Packages implemented \n",
    "import tensorflow as tf\n",
    "from tensorflow import keras\n",
    "import numpy as np"
   ]
  },
  {
   "cell_type": "code",
   "execution_count": 3,
   "id": "8fbedb3d",
   "metadata": {},
   "outputs": [
    {
     "name": "stdout",
     "output_type": "stream",
     "text": [
      "Downloading data from https://storage.googleapis.com/tensorflow/tf-keras-datasets/mnist.npz\n",
      "11490434/11490434 [==============================] - 1s 0us/step\n"
     ]
    }
   ],
   "source": [
    "mnist = keras.datasets.mnist # mnist dataset from keras website \n",
    "#Creating training and testing sets\n",
    "(x_train, y_train), (x_test, y_test) = mnist.load_data()"
   ]
  },
  {
   "cell_type": "code",
   "execution_count": 4,
   "id": "85a30769",
   "metadata": {},
   "outputs": [],
   "source": [
    "# Data Normalization from 255,0\n",
    "x_train, x_test = x_train / 255.0, x_test / 255.0\n",
    "\n",
    "\n",
    "# Feed forward neural network\n",
    "model = keras.models.Sequential([\n",
    "    keras.layers.Flatten(input_shape=(28,28)),\n",
    "    keras.layers.Dense(128, activation='relu'),\n",
    "    keras.layers.Dense(10),\n",
    "])"
   ]
  },
  {
   "cell_type": "code",
   "execution_count": 5,
   "id": "d682c91c",
   "metadata": {},
   "outputs": [
    {
     "name": "stderr",
     "output_type": "stream",
     "text": [
      "WARNING:absl:`lr` is deprecated in Keras optimizer, please use `learning_rate` or use the legacy optimizer, e.g.,tf.keras.optimizers.legacy.Adam.\n"
     ]
    }
   ],
   "source": [
    "# loss and optimzier\n",
    "loss = keras.losses.SparseCategoricalCrossentropy(from_logits=True)\n",
    "optim = keras.optimizers.Adam(lr=0.001) # \"adam\"\n",
    "metrics = [keras.metrics.SparseCategoricalAccuracy()] # \"accuracy\""
   ]
  },
  {
   "cell_type": "code",
   "execution_count": 6,
   "id": "4ccb3341",
   "metadata": {},
   "outputs": [],
   "source": [
    "# compile\n",
    "model.compile(loss=loss, optimizer=optim, metrics=metrics)"
   ]
  },
  {
   "cell_type": "code",
   "execution_count": 7,
   "id": "e6b0e696",
   "metadata": {},
   "outputs": [
    {
     "name": "stdout",
     "output_type": "stream",
     "text": [
      "Epoch 1/5\n",
      "938/938 - 4s - loss: 0.3006 - sparse_categorical_accuracy: 0.9152 - 4s/epoch - 4ms/step\n",
      "Epoch 2/5\n",
      "938/938 - 3s - loss: 0.1376 - sparse_categorical_accuracy: 0.9607 - 3s/epoch - 3ms/step\n",
      "Epoch 3/5\n",
      "938/938 - 3s - loss: 0.0969 - sparse_categorical_accuracy: 0.9713 - 3s/epoch - 3ms/step\n",
      "Epoch 4/5\n",
      "938/938 - 3s - loss: 0.0747 - sparse_categorical_accuracy: 0.9776 - 3s/epoch - 3ms/step\n",
      "Epoch 5/5\n",
      "938/938 - 3s - loss: 0.0587 - sparse_categorical_accuracy: 0.9827 - 3s/epoch - 3ms/step\n",
      "Evaluate:\n",
      "313/313 - 1s - loss: 0.0811 - sparse_categorical_accuracy: 0.9742 - 685ms/epoch - 2ms/step\n"
     ]
    },
    {
     "data": {
      "text/plain": [
       "[0.08109770715236664, 0.9742000102996826]"
      ]
     },
     "execution_count": 7,
     "metadata": {},
     "output_type": "execute_result"
    }
   ],
   "source": [
    "# fit/training\n",
    "model.fit(x_train, y_train, batch_size=64, epochs=5, shuffle=True, verbose=2)\n",
    "\n",
    "print(\"Evaluate:\")\n",
    "model.evaluate(x_test,  y_test, verbose=2)"
   ]
  },
  {
   "cell_type": "code",
   "execution_count": 8,
   "id": "489116e7",
   "metadata": {},
   "outputs": [
    {
     "name": "stdout",
     "output_type": "stream",
     "text": [
      "INFO:tensorflow:Assets written to: nn\\assets\n"
     ]
    },
    {
     "name": "stderr",
     "output_type": "stream",
     "text": [
      "INFO:tensorflow:Assets written to: nn\\assets\n",
      "C:\\Users\\Owner\\anaconda3\\Lib\\site-packages\\keras\\src\\engine\\training.py:3079: UserWarning: You are saving your model as an HDF5 file via `model.save()`. This file format is considered legacy. We recommend using instead the native Keras format, e.g. `model.save('my_model.keras')`.\n",
      "  saving_api.save_model(\n"
     ]
    }
   ],
   "source": [
    "# 1) Save whole model\n",
    "# two formats: SavedModel or HDF5\n",
    "model.save(\"nn\")  # no file ending = SavedModel\n",
    "model.save(\"nn.h5\")  # .h5 = HDF5\n",
    "\n",
    "new_model = keras.models.load_model(\"nn.h5\")"
   ]
  },
  {
   "cell_type": "code",
   "execution_count": 9,
   "id": "d456b156",
   "metadata": {},
   "outputs": [],
   "source": [
    "# 2) save only weights\n",
    "model.save_weights(\"nn_weights.h5\")\n",
    "\n",
    "# initilaize model first:\n",
    "# model = keras.Sequential([...])\n",
    "model.load_weights(\"nn_weights.h5\")"
   ]
  },
  {
   "cell_type": "code",
   "execution_count": 10,
   "id": "836e01bf",
   "metadata": {},
   "outputs": [
    {
     "name": "stdout",
     "output_type": "stream",
     "text": [
      "Model: \"sequential\"\n",
      "_________________________________________________________________\n",
      " Layer (type)                Output Shape              Param #   \n",
      "=================================================================\n",
      " flatten (Flatten)           (None, 784)               0         \n",
      "                                                                 \n",
      " dense (Dense)               (None, 128)               100480    \n",
      "                                                                 \n",
      " dense_1 (Dense)             (None, 10)                1290      \n",
      "                                                                 \n",
      "=================================================================\n",
      "Total params: 101770 (397.54 KB)\n",
      "Trainable params: 101770 (397.54 KB)\n",
      "Non-trainable params: 0 (0.00 Byte)\n",
      "_________________________________________________________________\n",
      "None\n"
     ]
    }
   ],
   "source": [
    "# 3) save only architecture, to_json\n",
    "json_string = model.to_json()\n",
    "\n",
    "with open(\"nn_model.json\", \"w\") as f:\n",
    "    f.write(json_string)\n",
    "\n",
    "with open(\"nn_model.json\", \"r\") as f:\n",
    "    loaded_json_string = f.read()\n",
    "\n",
    "new_model = keras.models.model_from_json(loaded_json_string)\n",
    "print(new_model.summary())"
   ]
  }
 ],
 "metadata": {
  "kernelspec": {
   "display_name": "Python 3 (ipykernel)",
   "language": "python",
   "name": "python3"
  },
  "language_info": {
   "codemirror_mode": {
    "name": "ipython",
    "version": 3
   },
   "file_extension": ".py",
   "mimetype": "text/x-python",
   "name": "python",
   "nbconvert_exporter": "python",
   "pygments_lexer": "ipython3",
   "version": "3.11.5"
  }
 },
 "nbformat": 4,
 "nbformat_minor": 5
}
